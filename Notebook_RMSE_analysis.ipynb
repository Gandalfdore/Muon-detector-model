{
 "cells": [
  {
   "cell_type": "markdown",
   "id": "b054953a",
   "metadata": {},
   "source": [
    "# This notebook does grid search of fits and gives RMSE fitting values of each"
   ]
  },
  {
   "cell_type": "code",
   "execution_count": null,
   "id": "3cd8a08c",
   "metadata": {},
   "outputs": [],
   "source": [
    "\n",
    "import numpy as np\n",
    "import matplotlib.pyplot as plt\n",
    "import pandas as pd\n",
    "import scipy.integrate as integrate\n",
    "from scipy.optimize import curve_fit\n",
    "plt.style.use('coolplot.mplstyle')\n",
    "\n",
    "df = pd.read_csv('muon_counter_data.csv')\n",
    "df['average_cpm_coincidental'] = df['average_cpm_coincidental'] - 0 ### omit the correction, because its taken in a noisy cave\n",
    "######################################################\n",
    "\n",
    "########################### Sub-Functions #######################\n",
    "\n",
    "def fudger(height, width, length, fudge_distance):\n",
    "    \n",
    "    height +=  2*fudge_distance\n",
    "    width -= 2*fudge_distance\n",
    "    length -= 2*fudge_distance\n",
    "    \n",
    "    phi = 2*np.arctan(width/height) # gives the aperture angles of the detector in radians    \n",
    "    alpha = 2*np.arctan(length/height)  \n",
    "    \n",
    "    # print ('The angle of the width aperture is:',phi*180/np.pi,\"degrees\")                                                    \n",
    "    # print ('The angle of the length aperture is:',alpha*180/np.pi,\"degrees\")\n",
    "    \n",
    "    return height, width, length, phi, alpha\n",
    "\n",
    "\n",
    "######################################################\n",
    "\n",
    "def cos_func_squared (y,x,zenith_angle):\n",
    "    \n",
    "    a = 10 # in km  atmosphere height\n",
    "    r = 6400 # in km  radius of the planet earth\n",
    "    \n",
    "    new_cos = abs(np.cos(np.arcsin(np.sin(zenith_angle + x ) * np.cos(y/2))))\n",
    "    # output = (new_cos**2)   ###test\n",
    "    output = (a/(-r*new_cos + np.sqrt(a**2 + 2*a*r + (r*new_cos)**2)))**2\n",
    "    \n",
    "    return output\n",
    "\n",
    "\n",
    "######################################################\n",
    "\n",
    "def integral_of_the_flux (zenith_angle, alpha, phi, height, width, length, F0):\n",
    "    \"\"\"Here we define the integrand and we integrate to get the flux through the detectors for a given zenith angle.\"\"\"\n",
    "    \n",
    "    alim = -alpha/2\n",
    "    blim = alpha/2\n",
    "    \n",
    "    alim_2 = -phi/2\n",
    "    blim_2 = phi/2\n",
    "        \n",
    "    f = lambda y,x: np.sin(x + np.pi/2) * np.cos(y/2) * (width - (height*abs(np.tan(y)))) * (length - (height*abs(np.tan(x)))) * cos_func_squared (y,x,zenith_angle)\n",
    "    \n",
    "    result = F0 * integrate.dblquad(f, alim, blim, alim_2, blim_2)[0]\n",
    "    \n",
    "    return result\n",
    "\n",
    "\n",
    "########################################################## functions ###############····························\n",
    "\n",
    "\n",
    "def generator_func_arr (argument_array, F0, fudge_distance, height, width, length):\n",
    "    \"\"\" This hunction geneerates prediction values. For Arrays!\n",
    "    INPUT: F0 - the intensity of the flux\n",
    "        fudge distance - the amount of dead zone arounf the detector\n",
    "        height, width, length - geometrical dimemsions of the detector\n",
    "        argument_array - an array with the feature (angles in this case)\n",
    "    OUTPUT: an array of the predicted values\"\"\"\n",
    "    \n",
    "    height, width, length, phi, alpha = fudger(height, width, length, fudge_distance) # transforms the geometrical parameters and gives derived geometrical values\n",
    "    \n",
    "    integral_table = np.zeros(len(argument_array))  # table to store the computed vales\n",
    "    argument_array=(np.pi/180)*argument_array # the argument values in radians\n",
    "    \n",
    "    for i in range(len(argument_array)):\n",
    "        integral_table[i] = integral_of_the_flux (argument_array[i], alpha, phi, height, width, length, F0) # compute the value, based on the given parameters\n",
    "    \n",
    "    return integral_table\n",
    "\n",
    "\n",
    "###########################\n",
    "\n",
    "# def generator_func_single (argument, F0, fudge_distance, height, width, length):\n",
    "#     \"\"\" This hunction geneerates prediction values. For Arrays!\n",
    "#     INPUT: F0 - the intensity of the flux\n",
    "#         fudge distance - the amount of dead zone arounf the detector\n",
    "#         height, width, length - geometrical dimemsions of the detector\n",
    "#         argument_array - an array with the feature (angles in this case)\n",
    "#     OUTPUT: an array of the predicted values\"\"\"\n",
    "    \n",
    "#     height, width, length, phi, alpha = fudger(height, width, length, fudge_distance) # transforms the geometrical parameters and gives derived geometrical values\n",
    "    \n",
    "#     argument=(np.pi/180)*argument # the argument values in radians\n",
    "    \n",
    "#     return integral_of_the_flux (argument, alpha, phi, height, width, length, F0) # compute the value, based on the given parameters\n",
    "# ##################################\n",
    "\n",
    "\n",
    "def fitter_func(argument_array, F0, fudge_distance):\n",
    "    \n",
    "    height = 1.5\n",
    "    width = 3   \n",
    "    length = 21 \n",
    "    \n",
    "    return generator_func_arr (F0, fudge_distance, height, width, length, argument_array) #generator_func_single (argument, F0, fudge_distance, height, width, length)\n",
    "    \n",
    "    \n",
    "# ##################################\n",
    "\n",
    "def least_sqares_method (y_pred, y_label):\n",
    "    \"\"\"takes values of two arrays (of equal size) and computes the least squares metric\"\"\"\n",
    "    sum = 0\n",
    "    \n",
    "    for i in range(len(y_pred)):\n",
    "        dif = (y_pred[i] - y_label[i])**2  \n",
    "        sum = sum + dif\n",
    "    \n",
    "    sum = sum/len(y_pred)\n",
    "    sum = np.sqrt (sum)\n",
    "    \n",
    "    return sum     \n",
    "\n",
    "# ##################################\n",
    "        \n",
    "def min_value_parser (threshold, array, sweep_array1 = sweep_arr_length, sweep_array2 = sweep_arr_width):      #\n",
    "    \"\"\"This function takes a 2D array and gives one the values and the indeces of where its values are smaller then \"threshold\" \"\"\"\n",
    "    \n",
    "    bb = np.flatnonzero(array < threshold)\n",
    "    \n",
    "    if bb.size == 0:\n",
    "        print (\"===No values below this threshold===\")\n",
    "    \n",
    "    for i in bb:\n",
    "        print (i)\n",
    "        index_2 = i % array.shape[1]\n",
    "        index_1 = int((i - index_2) / array.shape[1])\n",
    "        print (\"index_1:\",index_1,\"index_2:\",index_2)\n",
    "        print ('\\n',\"indexes:\", index_1, index_2, \"| RMSE value:\", array[index_1, index_2])\n",
    "#        print (\"F0 value:\", sweep_matrix_F0[index_1], \"| Fudge value:\", sweep_matrix_fudge[index_2])\n",
    "        print (\"length value:\", sweep_array1[index_1], \"| Width value:\", sweep_array2[index_2])\n",
    "    \n",
    "    return None\n",
    "        \n",
    "    \n",
    "###################################\n",
    "\n",
    "def plotter (x_labels, y_labels, x_predictions, y_predictions):\n",
    "    \n",
    "    fig1, (ax1) = plt.subplots(1, 1, figsize = (5, 5), dpi = 400)\n",
    "    ax1.plot(x_predictions, y_predictions, linewidth=3, label = \"fit to detector data\", zorder=1)\n",
    "    \n",
    "    ax1.scatter(x_labels, y_labels, c='r', linewidths=5, label='Experimental data', zorder=2)\n",
    "    \n",
    "    ax1.set_xlabel('$Zenith$ $angle$ ($^{\\circ}$)', fontsize=12)\n",
    "    ax1.set_ylabel('$Absolute$ $count$', fontsize=12)\n",
    "    # ax1.set_title('$Muon$ $impacts$ $per$ $minute$ $for$ $1x1 cm$ $chip$', fontdict=None, loc='center', pad=None)\n",
    "    \n",
    "    ax1.legend()\n",
    "    \n",
    "    plt.plot()\n",
    "    \n",
    "    return None\n",
    "\n",
    "\n",
    "##########################################\n",
    "\n",
    "\n",
    "def namestr(obj, namespace = globals()):\n",
    "    namespace\n",
    "    \"\"\"This function returns the name of an array\"\"\"\n",
    "    return [name for name in namespace if namespace[name] is obj]\n",
    "\n",
    "###########################################################\n",
    "\n",
    "\n",
    "\n",
    "# F0 = 0.498\n",
    "# fudge_distance = 0.1\n",
    "\n",
    "# # predictions = generator_func (F0, fudge_distance, height, width, length, argument_array)\n",
    "# # # prediction = generator_func (0, F0, fudge_distance, height, width, length)\n",
    "# # prediction = fitter_func(5, F0, fudge_distance)\n",
    "\n",
    "\n",
    "#############################################################\n",
    "\n",
    "# popt, pcov = curve_fit(fitter_func, argument_array, labels, p0 = [F0, fudge_distance])\n",
    "\n",
    " ##########################################################\n",
    "    "
   ]
  },
  {
   "cell_type": "code",
   "execution_count": null,
   "id": "cba028bd",
   "metadata": {},
   "outputs": [],
   "source": [
    "argument_array = df['angle'].to_numpy()\n",
    "labels = df['average_cpm_coincidental'].to_numpy()\n"
   ]
  },
  {
   "cell_type": "markdown",
   "id": "5d8dbca8",
   "metadata": {},
   "source": [
    "# Sweep of the height, width and length"
   ]
  },
  {
   "cell_type": "code",
   "execution_count": null,
   "id": "7e8110fc",
   "metadata": {},
   "outputs": [],
   "source": [
    "sweep_arr_length = np.linspace (10, 30, 3)\n",
    "sweep_arr_width = np.linspace (0.5, 3, 3)\n",
    "sweep_arr_height = np.linspace (1.2, 3.0, 3)\n",
    "charact_arr2 = np.zeros ((len(sweep_arr_length), len(sweep_arr_width)))\n",
    "                                                   \n",
    "F0 = 0.5\n",
    "fudge_factor = 0.0\n",
    "                                                   "
   ]
  },
  {
   "cell_type": "code",
   "execution_count": 4,
   "id": "b2a0c697",
   "metadata": {},
   "outputs": [
    {
     "name": "stdout",
     "output_type": "stream",
     "text": [
      "Progress: 33 %\n",
      "Progress: 66 %\n",
      "Progress: 100 %\n"
     ]
    }
   ],
   "source": [
    "for i in range(len(sweep_arr_length)):\n",
    "    print(\"Progress:\", int(100*(i+1)/len(sweep_arr_length)),\"%\")\n",
    "    for j in range(len(sweep_arr_width)):\n",
    "        for k in range(len(sweep_arr_height)):\n",
    "            \n",
    "            \n",
    "            #print (charact_arr[i,j,k], i, j, k)\n",
    "            y_pred = generator_func_arr (argument_array, F0, fudge_factor, sweep_arr_height[k], sweep_arr_width[j], sweep_arr_length[i])\n",
    "            charact_arr2[i,j] = least_sqares_method (y_pred, labels)"
   ]
  },
  {
   "cell_type": "markdown",
   "id": "345072e9",
   "metadata": {},
   "source": [
    "# Sweeping fudge factor and intensity"
   ]
  },
  {
   "cell_type": "code",
   "execution_count": 5,
   "id": "b8f00c1d",
   "metadata": {},
   "outputs": [],
   "source": [
    "sweep_matrix_F0 = np.linspace (0.5,2, 40)\n",
    "sweep_matrix_fudge = np.linspace (0.2,0.5,20) \n",
    "charact_arr = np.zeros ((len(sweep_matrix_F0), len(sweep_matrix_fudge)))\n",
    "\n",
    "height = 1.5\n",
    "width = 3   \n",
    "length = 21\n",
    "\n",
    "# min_value_parser (2., charact_arr)"
   ]
  },
  {
   "cell_type": "code",
   "execution_count": 6,
   "id": "ffccea0f",
   "metadata": {},
   "outputs": [
    {
     "name": "stdout",
     "output_type": "stream",
     "text": [
      "Progress: 2 %\n"
     ]
    },
    {
     "name": "stderr",
     "output_type": "stream",
     "text": [
      "C:\\ProgramData\\Anaconda3\\lib\\site-packages\\scipy\\integrate\\quadpack.py:879: IntegrationWarning: The integral is probably divergent, or slowly convergent.\n",
      "  quad_r = quad(f, low, high, args=args, full_output=self.full_output,\n"
     ]
    },
    {
     "name": "stdout",
     "output_type": "stream",
     "text": [
      "Progress: 5 %\n",
      "Progress: 7 %\n",
      "Progress: 10 %\n",
      "Progress: 12 %\n"
     ]
    },
    {
     "ename": "KeyboardInterrupt",
     "evalue": "",
     "output_type": "error",
     "traceback": [
      "\u001b[1;31m---------------------------------------------------------------------------\u001b[0m",
      "\u001b[1;31mKeyboardInterrupt\u001b[0m                         Traceback (most recent call last)",
      "Input \u001b[1;32mIn [6]\u001b[0m, in \u001b[0;36m<cell line: 1>\u001b[1;34m()\u001b[0m\n\u001b[0;32m      2\u001b[0m \u001b[38;5;28mprint\u001b[39m(\u001b[38;5;124m\"\u001b[39m\u001b[38;5;124mProgress:\u001b[39m\u001b[38;5;124m\"\u001b[39m, \u001b[38;5;28mint\u001b[39m(\u001b[38;5;241m100\u001b[39m\u001b[38;5;241m*\u001b[39m(i\u001b[38;5;241m+\u001b[39m\u001b[38;5;241m1\u001b[39m)\u001b[38;5;241m/\u001b[39m\u001b[38;5;28mlen\u001b[39m(sweep_matrix_F0)),\u001b[38;5;124m\"\u001b[39m\u001b[38;5;124m%\u001b[39m\u001b[38;5;124m\"\u001b[39m)\n\u001b[0;32m      3\u001b[0m \u001b[38;5;28;01mfor\u001b[39;00m j \u001b[38;5;129;01min\u001b[39;00m \u001b[38;5;28mrange\u001b[39m(\u001b[38;5;28mlen\u001b[39m(sweep_matrix_fudge)):\n\u001b[0;32m      4\u001b[0m     \u001b[38;5;66;03m#print (charact_arr[i,j], i, j)\u001b[39;00m\n\u001b[1;32m----> 5\u001b[0m     y_pred \u001b[38;5;241m=\u001b[39m \u001b[43mgenerator_func_arr\u001b[49m\u001b[43m \u001b[49m\u001b[43m(\u001b[49m\u001b[43margument_array\u001b[49m\u001b[43m,\u001b[49m\u001b[43m \u001b[49m\u001b[43msweep_matrix_F0\u001b[49m\u001b[43m[\u001b[49m\u001b[43mi\u001b[49m\u001b[43m]\u001b[49m\u001b[43m,\u001b[49m\u001b[43m \u001b[49m\u001b[43msweep_matrix_fudge\u001b[49m\u001b[43m[\u001b[49m\u001b[43mj\u001b[49m\u001b[43m]\u001b[49m\u001b[43m,\u001b[49m\u001b[43m \u001b[49m\u001b[43mheight\u001b[49m\u001b[43m,\u001b[49m\u001b[43m \u001b[49m\u001b[43mwidth\u001b[49m\u001b[43m,\u001b[49m\u001b[43m \u001b[49m\u001b[43mlength\u001b[49m\u001b[43m)\u001b[49m\n\u001b[0;32m      6\u001b[0m     charact_arr[i,j] \u001b[38;5;241m=\u001b[39m least_sqares_method (y_pred, labels)\n",
      "Input \u001b[1;32mIn [1]\u001b[0m, in \u001b[0;36mgenerator_func_arr\u001b[1;34m(argument_array, F0, fudge_distance, height, width, length)\u001b[0m\n\u001b[0;32m     71\u001b[0m argument_array\u001b[38;5;241m=\u001b[39m(np\u001b[38;5;241m.\u001b[39mpi\u001b[38;5;241m/\u001b[39m\u001b[38;5;241m180\u001b[39m)\u001b[38;5;241m*\u001b[39margument_array \u001b[38;5;66;03m# the argument values in radians\u001b[39;00m\n\u001b[0;32m     73\u001b[0m \u001b[38;5;28;01mfor\u001b[39;00m i \u001b[38;5;129;01min\u001b[39;00m \u001b[38;5;28mrange\u001b[39m(\u001b[38;5;28mlen\u001b[39m(argument_array)):\n\u001b[1;32m---> 74\u001b[0m     integral_table[i] \u001b[38;5;241m=\u001b[39m \u001b[43mintegral_of_the_flux\u001b[49m\u001b[43m \u001b[49m\u001b[43m(\u001b[49m\u001b[43margument_array\u001b[49m\u001b[43m[\u001b[49m\u001b[43mi\u001b[49m\u001b[43m]\u001b[49m\u001b[43m,\u001b[49m\u001b[43m \u001b[49m\u001b[43malpha\u001b[49m\u001b[43m,\u001b[49m\u001b[43m \u001b[49m\u001b[43mphi\u001b[49m\u001b[43m,\u001b[49m\u001b[43m \u001b[49m\u001b[43mheight\u001b[49m\u001b[43m,\u001b[49m\u001b[43m \u001b[49m\u001b[43mwidth\u001b[49m\u001b[43m,\u001b[49m\u001b[43m \u001b[49m\u001b[43mlength\u001b[49m\u001b[43m,\u001b[49m\u001b[43m \u001b[49m\u001b[43mF0\u001b[49m\u001b[43m)\u001b[49m \u001b[38;5;66;03m# compute the value, based on the given parameters\u001b[39;00m\n\u001b[0;32m     76\u001b[0m \u001b[38;5;28;01mreturn\u001b[39;00m integral_table\n",
      "Input \u001b[1;32mIn [1]\u001b[0m, in \u001b[0;36mintegral_of_the_flux\u001b[1;34m(zenith_angle, alpha, phi, height, width, length, F0)\u001b[0m\n\u001b[0;32m     48\u001b[0m blim_2 \u001b[38;5;241m=\u001b[39m phi\u001b[38;5;241m/\u001b[39m\u001b[38;5;241m2\u001b[39m\n\u001b[0;32m     50\u001b[0m f \u001b[38;5;241m=\u001b[39m \u001b[38;5;28;01mlambda\u001b[39;00m y,x: np\u001b[38;5;241m.\u001b[39msin(x \u001b[38;5;241m+\u001b[39m np\u001b[38;5;241m.\u001b[39mpi\u001b[38;5;241m/\u001b[39m\u001b[38;5;241m2\u001b[39m) \u001b[38;5;241m*\u001b[39m np\u001b[38;5;241m.\u001b[39mcos(y\u001b[38;5;241m/\u001b[39m\u001b[38;5;241m2\u001b[39m) \u001b[38;5;241m*\u001b[39m (width \u001b[38;5;241m-\u001b[39m (height\u001b[38;5;241m*\u001b[39m\u001b[38;5;28mabs\u001b[39m(np\u001b[38;5;241m.\u001b[39mtan(y)))) \u001b[38;5;241m*\u001b[39m (length \u001b[38;5;241m-\u001b[39m (height\u001b[38;5;241m*\u001b[39m\u001b[38;5;28mabs\u001b[39m(np\u001b[38;5;241m.\u001b[39mtan(x)))) \u001b[38;5;241m*\u001b[39m cos_func_squared (y,x,zenith_angle)\n\u001b[1;32m---> 52\u001b[0m result \u001b[38;5;241m=\u001b[39m F0 \u001b[38;5;241m*\u001b[39m \u001b[43mintegrate\u001b[49m\u001b[38;5;241;43m.\u001b[39;49m\u001b[43mdblquad\u001b[49m\u001b[43m(\u001b[49m\u001b[43mf\u001b[49m\u001b[43m,\u001b[49m\u001b[43m \u001b[49m\u001b[43malim\u001b[49m\u001b[43m,\u001b[49m\u001b[43m \u001b[49m\u001b[43mblim\u001b[49m\u001b[43m,\u001b[49m\u001b[43m \u001b[49m\u001b[43malim_2\u001b[49m\u001b[43m,\u001b[49m\u001b[43m \u001b[49m\u001b[43mblim_2\u001b[49m\u001b[43m)\u001b[49m[\u001b[38;5;241m0\u001b[39m]\n\u001b[0;32m     54\u001b[0m \u001b[38;5;28;01mreturn\u001b[39;00m result\n",
      "File \u001b[1;32mC:\\ProgramData\\Anaconda3\\lib\\site-packages\\scipy\\integrate\\quadpack.py:601\u001b[0m, in \u001b[0;36mdblquad\u001b[1;34m(func, a, b, gfun, hfun, args, epsabs, epsrel)\u001b[0m\n\u001b[0;32m    597\u001b[0m \u001b[38;5;28;01mdef\u001b[39;00m \u001b[38;5;21mtemp_ranges\u001b[39m(\u001b[38;5;241m*\u001b[39margs):\n\u001b[0;32m    598\u001b[0m     \u001b[38;5;28;01mreturn\u001b[39;00m [gfun(args[\u001b[38;5;241m0\u001b[39m]) \u001b[38;5;28;01mif\u001b[39;00m callable(gfun) \u001b[38;5;28;01melse\u001b[39;00m gfun,\n\u001b[0;32m    599\u001b[0m             hfun(args[\u001b[38;5;241m0\u001b[39m]) \u001b[38;5;28;01mif\u001b[39;00m callable(hfun) \u001b[38;5;28;01melse\u001b[39;00m hfun]\n\u001b[1;32m--> 601\u001b[0m \u001b[38;5;28;01mreturn\u001b[39;00m \u001b[43mnquad\u001b[49m\u001b[43m(\u001b[49m\u001b[43mfunc\u001b[49m\u001b[43m,\u001b[49m\u001b[43m \u001b[49m\u001b[43m[\u001b[49m\u001b[43mtemp_ranges\u001b[49m\u001b[43m,\u001b[49m\u001b[43m \u001b[49m\u001b[43m[\u001b[49m\u001b[43ma\u001b[49m\u001b[43m,\u001b[49m\u001b[43m \u001b[49m\u001b[43mb\u001b[49m\u001b[43m]\u001b[49m\u001b[43m]\u001b[49m\u001b[43m,\u001b[49m\u001b[43m \u001b[49m\u001b[43margs\u001b[49m\u001b[38;5;241;43m=\u001b[39;49m\u001b[43margs\u001b[49m\u001b[43m,\u001b[49m\n\u001b[0;32m    602\u001b[0m \u001b[43m        \u001b[49m\u001b[43mopts\u001b[49m\u001b[38;5;241;43m=\u001b[39;49m\u001b[43m{\u001b[49m\u001b[38;5;124;43m\"\u001b[39;49m\u001b[38;5;124;43mepsabs\u001b[39;49m\u001b[38;5;124;43m\"\u001b[39;49m\u001b[43m:\u001b[49m\u001b[43m \u001b[49m\u001b[43mepsabs\u001b[49m\u001b[43m,\u001b[49m\u001b[43m \u001b[49m\u001b[38;5;124;43m\"\u001b[39;49m\u001b[38;5;124;43mepsrel\u001b[39;49m\u001b[38;5;124;43m\"\u001b[39;49m\u001b[43m:\u001b[49m\u001b[43m \u001b[49m\u001b[43mepsrel\u001b[49m\u001b[43m}\u001b[49m\u001b[43m)\u001b[49m\n",
      "File \u001b[1;32mC:\\ProgramData\\Anaconda3\\lib\\site-packages\\scipy\\integrate\\quadpack.py:825\u001b[0m, in \u001b[0;36mnquad\u001b[1;34m(func, ranges, args, opts, full_output)\u001b[0m\n\u001b[0;32m    823\u001b[0m \u001b[38;5;28;01melse\u001b[39;00m:\n\u001b[0;32m    824\u001b[0m     opts \u001b[38;5;241m=\u001b[39m [opt \u001b[38;5;28;01mif\u001b[39;00m callable(opt) \u001b[38;5;28;01melse\u001b[39;00m _OptFunc(opt) \u001b[38;5;28;01mfor\u001b[39;00m opt \u001b[38;5;129;01min\u001b[39;00m opts]\n\u001b[1;32m--> 825\u001b[0m \u001b[38;5;28;01mreturn\u001b[39;00m \u001b[43m_NQuad\u001b[49m\u001b[43m(\u001b[49m\u001b[43mfunc\u001b[49m\u001b[43m,\u001b[49m\u001b[43m \u001b[49m\u001b[43mranges\u001b[49m\u001b[43m,\u001b[49m\u001b[43m \u001b[49m\u001b[43mopts\u001b[49m\u001b[43m,\u001b[49m\u001b[43m \u001b[49m\u001b[43mfull_output\u001b[49m\u001b[43m)\u001b[49m\u001b[38;5;241;43m.\u001b[39;49m\u001b[43mintegrate\u001b[49m\u001b[43m(\u001b[49m\u001b[38;5;241;43m*\u001b[39;49m\u001b[43margs\u001b[49m\u001b[43m)\u001b[49m\n",
      "File \u001b[1;32mC:\\ProgramData\\Anaconda3\\lib\\site-packages\\scipy\\integrate\\quadpack.py:879\u001b[0m, in \u001b[0;36m_NQuad.integrate\u001b[1;34m(self, *args, **kwargs)\u001b[0m\n\u001b[0;32m    877\u001b[0m \u001b[38;5;28;01melse\u001b[39;00m:\n\u001b[0;32m    878\u001b[0m     f \u001b[38;5;241m=\u001b[39m partial(\u001b[38;5;28mself\u001b[39m\u001b[38;5;241m.\u001b[39mintegrate, depth\u001b[38;5;241m=\u001b[39mdepth\u001b[38;5;241m+\u001b[39m\u001b[38;5;241m1\u001b[39m)\n\u001b[1;32m--> 879\u001b[0m quad_r \u001b[38;5;241m=\u001b[39m quad(f, low, high, args\u001b[38;5;241m=\u001b[39margs, full_output\u001b[38;5;241m=\u001b[39m\u001b[38;5;28mself\u001b[39m\u001b[38;5;241m.\u001b[39mfull_output,\n\u001b[0;32m    880\u001b[0m               \u001b[38;5;241m*\u001b[39m\u001b[38;5;241m*\u001b[39mopt)\n\u001b[0;32m    881\u001b[0m value \u001b[38;5;241m=\u001b[39m quad_r[\u001b[38;5;241m0\u001b[39m]\n\u001b[0;32m    882\u001b[0m abserr \u001b[38;5;241m=\u001b[39m quad_r[\u001b[38;5;241m1\u001b[39m]\n",
      "File \u001b[1;32mC:\\ProgramData\\Anaconda3\\lib\\site-packages\\scipy\\integrate\\quadpack.py:351\u001b[0m, in \u001b[0;36mquad\u001b[1;34m(func, a, b, args, full_output, epsabs, epsrel, limit, points, weight, wvar, wopts, maxp1, limlst)\u001b[0m\n\u001b[0;32m    348\u001b[0m flip, a, b \u001b[38;5;241m=\u001b[39m b \u001b[38;5;241m<\u001b[39m a, \u001b[38;5;28mmin\u001b[39m(a, b), \u001b[38;5;28mmax\u001b[39m(a, b)\n\u001b[0;32m    350\u001b[0m \u001b[38;5;28;01mif\u001b[39;00m weight \u001b[38;5;129;01mis\u001b[39;00m \u001b[38;5;28;01mNone\u001b[39;00m:\n\u001b[1;32m--> 351\u001b[0m     retval \u001b[38;5;241m=\u001b[39m \u001b[43m_quad\u001b[49m\u001b[43m(\u001b[49m\u001b[43mfunc\u001b[49m\u001b[43m,\u001b[49m\u001b[43m \u001b[49m\u001b[43ma\u001b[49m\u001b[43m,\u001b[49m\u001b[43m \u001b[49m\u001b[43mb\u001b[49m\u001b[43m,\u001b[49m\u001b[43m \u001b[49m\u001b[43margs\u001b[49m\u001b[43m,\u001b[49m\u001b[43m \u001b[49m\u001b[43mfull_output\u001b[49m\u001b[43m,\u001b[49m\u001b[43m \u001b[49m\u001b[43mepsabs\u001b[49m\u001b[43m,\u001b[49m\u001b[43m \u001b[49m\u001b[43mepsrel\u001b[49m\u001b[43m,\u001b[49m\u001b[43m \u001b[49m\u001b[43mlimit\u001b[49m\u001b[43m,\u001b[49m\n\u001b[0;32m    352\u001b[0m \u001b[43m                   \u001b[49m\u001b[43mpoints\u001b[49m\u001b[43m)\u001b[49m\n\u001b[0;32m    353\u001b[0m \u001b[38;5;28;01melse\u001b[39;00m:\n\u001b[0;32m    354\u001b[0m     \u001b[38;5;28;01mif\u001b[39;00m points \u001b[38;5;129;01mis\u001b[39;00m \u001b[38;5;129;01mnot\u001b[39;00m \u001b[38;5;28;01mNone\u001b[39;00m:\n",
      "File \u001b[1;32mC:\\ProgramData\\Anaconda3\\lib\\site-packages\\scipy\\integrate\\quadpack.py:463\u001b[0m, in \u001b[0;36m_quad\u001b[1;34m(func, a, b, args, full_output, epsabs, epsrel, limit, points)\u001b[0m\n\u001b[0;32m    461\u001b[0m \u001b[38;5;28;01mif\u001b[39;00m points \u001b[38;5;129;01mis\u001b[39;00m \u001b[38;5;28;01mNone\u001b[39;00m:\n\u001b[0;32m    462\u001b[0m     \u001b[38;5;28;01mif\u001b[39;00m infbounds \u001b[38;5;241m==\u001b[39m \u001b[38;5;241m0\u001b[39m:\n\u001b[1;32m--> 463\u001b[0m         \u001b[38;5;28;01mreturn\u001b[39;00m \u001b[43m_quadpack\u001b[49m\u001b[38;5;241;43m.\u001b[39;49m\u001b[43m_qagse\u001b[49m\u001b[43m(\u001b[49m\u001b[43mfunc\u001b[49m\u001b[43m,\u001b[49m\u001b[43ma\u001b[49m\u001b[43m,\u001b[49m\u001b[43mb\u001b[49m\u001b[43m,\u001b[49m\u001b[43margs\u001b[49m\u001b[43m,\u001b[49m\u001b[43mfull_output\u001b[49m\u001b[43m,\u001b[49m\u001b[43mepsabs\u001b[49m\u001b[43m,\u001b[49m\u001b[43mepsrel\u001b[49m\u001b[43m,\u001b[49m\u001b[43mlimit\u001b[49m\u001b[43m)\u001b[49m\n\u001b[0;32m    464\u001b[0m     \u001b[38;5;28;01melse\u001b[39;00m:\n\u001b[0;32m    465\u001b[0m         \u001b[38;5;28;01mreturn\u001b[39;00m _quadpack\u001b[38;5;241m.\u001b[39m_qagie(func,bound,infbounds,args,full_output,epsabs,epsrel,limit)\n",
      "File \u001b[1;32mC:\\ProgramData\\Anaconda3\\lib\\site-packages\\scipy\\integrate\\quadpack.py:879\u001b[0m, in \u001b[0;36m_NQuad.integrate\u001b[1;34m(self, *args, **kwargs)\u001b[0m\n\u001b[0;32m    877\u001b[0m \u001b[38;5;28;01melse\u001b[39;00m:\n\u001b[0;32m    878\u001b[0m     f \u001b[38;5;241m=\u001b[39m partial(\u001b[38;5;28mself\u001b[39m\u001b[38;5;241m.\u001b[39mintegrate, depth\u001b[38;5;241m=\u001b[39mdepth\u001b[38;5;241m+\u001b[39m\u001b[38;5;241m1\u001b[39m)\n\u001b[1;32m--> 879\u001b[0m quad_r \u001b[38;5;241m=\u001b[39m quad(f, low, high, args\u001b[38;5;241m=\u001b[39margs, full_output\u001b[38;5;241m=\u001b[39m\u001b[38;5;28mself\u001b[39m\u001b[38;5;241m.\u001b[39mfull_output,\n\u001b[0;32m    880\u001b[0m               \u001b[38;5;241m*\u001b[39m\u001b[38;5;241m*\u001b[39mopt)\n\u001b[0;32m    881\u001b[0m value \u001b[38;5;241m=\u001b[39m quad_r[\u001b[38;5;241m0\u001b[39m]\n\u001b[0;32m    882\u001b[0m abserr \u001b[38;5;241m=\u001b[39m quad_r[\u001b[38;5;241m1\u001b[39m]\n",
      "File \u001b[1;32mC:\\ProgramData\\Anaconda3\\lib\\site-packages\\scipy\\integrate\\quadpack.py:351\u001b[0m, in \u001b[0;36mquad\u001b[1;34m(func, a, b, args, full_output, epsabs, epsrel, limit, points, weight, wvar, wopts, maxp1, limlst)\u001b[0m\n\u001b[0;32m    348\u001b[0m flip, a, b \u001b[38;5;241m=\u001b[39m b \u001b[38;5;241m<\u001b[39m a, \u001b[38;5;28mmin\u001b[39m(a, b), \u001b[38;5;28mmax\u001b[39m(a, b)\n\u001b[0;32m    350\u001b[0m \u001b[38;5;28;01mif\u001b[39;00m weight \u001b[38;5;129;01mis\u001b[39;00m \u001b[38;5;28;01mNone\u001b[39;00m:\n\u001b[1;32m--> 351\u001b[0m     retval \u001b[38;5;241m=\u001b[39m \u001b[43m_quad\u001b[49m\u001b[43m(\u001b[49m\u001b[43mfunc\u001b[49m\u001b[43m,\u001b[49m\u001b[43m \u001b[49m\u001b[43ma\u001b[49m\u001b[43m,\u001b[49m\u001b[43m \u001b[49m\u001b[43mb\u001b[49m\u001b[43m,\u001b[49m\u001b[43m \u001b[49m\u001b[43margs\u001b[49m\u001b[43m,\u001b[49m\u001b[43m \u001b[49m\u001b[43mfull_output\u001b[49m\u001b[43m,\u001b[49m\u001b[43m \u001b[49m\u001b[43mepsabs\u001b[49m\u001b[43m,\u001b[49m\u001b[43m \u001b[49m\u001b[43mepsrel\u001b[49m\u001b[43m,\u001b[49m\u001b[43m \u001b[49m\u001b[43mlimit\u001b[49m\u001b[43m,\u001b[49m\n\u001b[0;32m    352\u001b[0m \u001b[43m                   \u001b[49m\u001b[43mpoints\u001b[49m\u001b[43m)\u001b[49m\n\u001b[0;32m    353\u001b[0m \u001b[38;5;28;01melse\u001b[39;00m:\n\u001b[0;32m    354\u001b[0m     \u001b[38;5;28;01mif\u001b[39;00m points \u001b[38;5;129;01mis\u001b[39;00m \u001b[38;5;129;01mnot\u001b[39;00m \u001b[38;5;28;01mNone\u001b[39;00m:\n",
      "File \u001b[1;32mC:\\ProgramData\\Anaconda3\\lib\\site-packages\\scipy\\integrate\\quadpack.py:463\u001b[0m, in \u001b[0;36m_quad\u001b[1;34m(func, a, b, args, full_output, epsabs, epsrel, limit, points)\u001b[0m\n\u001b[0;32m    461\u001b[0m \u001b[38;5;28;01mif\u001b[39;00m points \u001b[38;5;129;01mis\u001b[39;00m \u001b[38;5;28;01mNone\u001b[39;00m:\n\u001b[0;32m    462\u001b[0m     \u001b[38;5;28;01mif\u001b[39;00m infbounds \u001b[38;5;241m==\u001b[39m \u001b[38;5;241m0\u001b[39m:\n\u001b[1;32m--> 463\u001b[0m         \u001b[38;5;28;01mreturn\u001b[39;00m \u001b[43m_quadpack\u001b[49m\u001b[38;5;241;43m.\u001b[39;49m\u001b[43m_qagse\u001b[49m\u001b[43m(\u001b[49m\u001b[43mfunc\u001b[49m\u001b[43m,\u001b[49m\u001b[43ma\u001b[49m\u001b[43m,\u001b[49m\u001b[43mb\u001b[49m\u001b[43m,\u001b[49m\u001b[43margs\u001b[49m\u001b[43m,\u001b[49m\u001b[43mfull_output\u001b[49m\u001b[43m,\u001b[49m\u001b[43mepsabs\u001b[49m\u001b[43m,\u001b[49m\u001b[43mepsrel\u001b[49m\u001b[43m,\u001b[49m\u001b[43mlimit\u001b[49m\u001b[43m)\u001b[49m\n\u001b[0;32m    464\u001b[0m     \u001b[38;5;28;01melse\u001b[39;00m:\n\u001b[0;32m    465\u001b[0m         \u001b[38;5;28;01mreturn\u001b[39;00m _quadpack\u001b[38;5;241m.\u001b[39m_qagie(func,bound,infbounds,args,full_output,epsabs,epsrel,limit)\n",
      "Input \u001b[1;32mIn [1]\u001b[0m, in \u001b[0;36mintegral_of_the_flux.<locals>.<lambda>\u001b[1;34m(y, x)\u001b[0m\n\u001b[0;32m     47\u001b[0m alim_2 \u001b[38;5;241m=\u001b[39m \u001b[38;5;241m-\u001b[39mphi\u001b[38;5;241m/\u001b[39m\u001b[38;5;241m2\u001b[39m\n\u001b[0;32m     48\u001b[0m blim_2 \u001b[38;5;241m=\u001b[39m phi\u001b[38;5;241m/\u001b[39m\u001b[38;5;241m2\u001b[39m\n\u001b[1;32m---> 50\u001b[0m f \u001b[38;5;241m=\u001b[39m \u001b[38;5;28;01mlambda\u001b[39;00m y,x: np\u001b[38;5;241m.\u001b[39msin(x \u001b[38;5;241m+\u001b[39m np\u001b[38;5;241m.\u001b[39mpi\u001b[38;5;241m/\u001b[39m\u001b[38;5;241m2\u001b[39m) \u001b[38;5;241m*\u001b[39m np\u001b[38;5;241m.\u001b[39mcos(y\u001b[38;5;241m/\u001b[39m\u001b[38;5;241m2\u001b[39m) \u001b[38;5;241m*\u001b[39m (width \u001b[38;5;241m-\u001b[39m (height\u001b[38;5;241m*\u001b[39m\u001b[38;5;28;43mabs\u001b[39;49m\u001b[43m(\u001b[49m\u001b[43mnp\u001b[49m\u001b[38;5;241;43m.\u001b[39;49m\u001b[43mtan\u001b[49m\u001b[43m(\u001b[49m\u001b[43my\u001b[49m\u001b[43m)\u001b[49m\u001b[43m)\u001b[49m)) \u001b[38;5;241m*\u001b[39m (length \u001b[38;5;241m-\u001b[39m (height\u001b[38;5;241m*\u001b[39m\u001b[38;5;28mabs\u001b[39m(np\u001b[38;5;241m.\u001b[39mtan(x)))) \u001b[38;5;241m*\u001b[39m cos_func_squared (y,x,zenith_angle)\n\u001b[0;32m     52\u001b[0m result \u001b[38;5;241m=\u001b[39m F0 \u001b[38;5;241m*\u001b[39m integrate\u001b[38;5;241m.\u001b[39mdblquad(f, alim, blim, alim_2, blim_2)[\u001b[38;5;241m0\u001b[39m]\n\u001b[0;32m     54\u001b[0m \u001b[38;5;28;01mreturn\u001b[39;00m result\n",
      "\u001b[1;31mKeyboardInterrupt\u001b[0m: "
     ]
    }
   ],
   "source": [
    "for i in range(len(sweep_matrix_F0)):\n",
    "    print(\"Progress:\", int(100*(i+1)/len(sweep_matrix_F0)),\"%\")\n",
    "    for j in range(len(sweep_matrix_fudge)):\n",
    "        #print (charact_arr[i,j], i, j)\n",
    "        y_pred = generator_func_arr (argument_array, sweep_matrix_F0[i], sweep_matrix_fudge[j], height, width, length)\n",
    "        charact_arr[i,j] = least_sqares_method (y_pred, labels)\n",
    "####################################"
   ]
  },
  {
   "cell_type": "code",
   "execution_count": null,
   "id": "5acf2f39",
   "metadata": {},
   "outputs": [],
   "source": [
    "grid1_falsecount_correction \n",
    "grid1_no_falsecount_correction = charact_arr"
   ]
  },
  {
   "cell_type": "code",
   "execution_count": null,
   "id": "62fca391",
   "metadata": {},
   "outputs": [],
   "source": [
    "charact_arr"
   ]
  },
  {
   "cell_type": "code",
   "execution_count": 41,
   "id": "7cffda37",
   "metadata": {},
   "outputs": [
    {
     "name": "stdout",
     "output_type": "stream",
     "text": [
      "\n",
      " indexes: 29 7 | RMSE value: 2.3536393418421646\n",
      "F0 value: 0.5974358974358974 | Fudge value: 0.24358974358974358\n",
      "\n",
      " indexes: 30 7 | RMSE value: 2.368649805465165\n",
      "F0 value: 0.6076923076923078 | Fudge value: 0.24358974358974358\n",
      "\n",
      " indexes: 32 8 | RMSE value: 2.2961765444010815\n",
      "F0 value: 0.6282051282051282 | Fudge value: 0.2641025641025641\n",
      "\n",
      " indexes: 33 8 | RMSE value: 2.3269753394701365\n",
      "F0 value: 0.6384615384615384 | Fudge value: 0.2641025641025641\n",
      "\n",
      " indexes: 34 9 | RMSE value: 2.329206452940484\n",
      "F0 value: 0.6487179487179486 | Fudge value: 0.2846153846153846\n",
      "\n",
      " indexes: 35 9 | RMSE value: 2.245725789310506\n",
      "F0 value: 0.658974358974359 | Fudge value: 0.2846153846153846\n",
      "\n",
      " indexes: 36 9 | RMSE value: 2.2706102141721725\n",
      "F0 value: 0.6692307692307693 | Fudge value: 0.2846153846153846\n",
      "\n",
      " indexes: 37 10 | RMSE value: 2.302831374115223\n",
      "F0 value: 0.6794871794871795 | Fudge value: 0.30512820512820515\n",
      "\n",
      " indexes: 38 10 | RMSE value: 2.20351216664546\n",
      "F0 value: 0.6897435897435897 | Fudge value: 0.30512820512820515\n",
      "\n",
      " indexes: 39 10 | RMSE value: 2.2037142495910356\n",
      "F0 value: 0.7 | Fudge value: 0.30512820512820515\n"
     ]
    }
   ],
   "source": [
    "min_value_parser (2.38, charact_arr)  # no correction"
   ]
  },
  {
   "cell_type": "code",
   "execution_count": null,
   "id": "9710b6df",
   "metadata": {},
   "outputs": [],
   "source": []
  }
 ],
 "metadata": {
  "kernelspec": {
   "display_name": "Python 3 (ipykernel)",
   "language": "python",
   "name": "python3"
  },
  "language_info": {
   "codemirror_mode": {
    "name": "ipython",
    "version": 3
   },
   "file_extension": ".py",
   "mimetype": "text/x-python",
   "name": "python",
   "nbconvert_exporter": "python",
   "pygments_lexer": "ipython3",
   "version": "3.9.12"
  }
 },
 "nbformat": 4,
 "nbformat_minor": 5
}
