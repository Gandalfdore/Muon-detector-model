{
 "cells": [
  {
   "cell_type": "markdown",
   "id": "0811a6fa",
   "metadata": {},
   "source": [
    "# Verical depth (in km water equivalent) calculator"
   ]
  },
  {
   "cell_type": "markdown",
   "id": "e011ee74",
   "metadata": {},
   "source": [
    "### This script calculates (using the work of Mei and Hime - https://arxiv.org/abs/astro-ph/0512125v2), the km water equivalent depth for muon penetration"
   ]
  },
  {
   "cell_type": "code",
   "execution_count": 23,
   "id": "7e29a6bf",
   "metadata": {},
   "outputs": [],
   "source": [
    "import numpy as np\n",
    "import functions as mf\n",
    "import scipy.integrate as integrate\n",
    "import matplotlib.pyplot as plt"
   ]
  },
  {
   "cell_type": "code",
   "execution_count": 16,
   "id": "27a1eff8",
   "metadata": {},
   "outputs": [],
   "source": [
    "def muon_intensity (h_0 = float): \n",
    "    \"\"\"This function, calculates the muon intensity I(h_0), \n",
    "    as a function of the equivalent depth in terms of km of water, based on eq(4) \"\"\"\n",
    "    \n",
    "    I1 = 67.97e-6\n",
    "    I2 = 2.07e-6\n",
    "    lambda_1_mod = 0.285\n",
    "    lambda_2_mod = 0.698\n",
    "    \n",
    "    I_tot = I1*np.exp(-h_0/lambda_1_mod) + I2*np.exp(-h_0/lambda_2_mod)\n",
    "    \n",
    "    return I_tot"
   ]
  },
  {
   "cell_type": "code",
   "execution_count": 152,
   "id": "3d4ff838",
   "metadata": {},
   "outputs": [],
   "source": [
    "def flat_earth_depth (y, x, h_0):\n",
    "    \"\"\"This function calculates the intensity for a muon shower inside earth, taking the flat earth approximation\"\"\"\n",
    "    \n",
    "#     # from Mei and Hime\n",
    "#     I1 = 8.6e-6\n",
    "#     I2 = 0.44e-6\n",
    "#     lambda_1 = 0.45\n",
    "#     lambda_2 = 0.87\n",
    "    \n",
    "    # from Harsh\n",
    "    I1 = 0.0003783\n",
    "    I2 = 1.829\n",
    "    lambda_1 = 0.009737\n",
    "    lambda_2 = 0.00113\n",
    "    \n",
    "    new_cos = abs (np.cos ( np.arcsin ( np.sin (x) * np.cos( y/2 ) ) ) )\n",
    "    sec = 1/new_cos\n",
    "    \n",
    "    I = (I1*np.exp(-h_0*sec/lambda_1) + I2*np.exp(-h_0*sec/lambda_2)) * sec\n",
    "#     print ('sec:',sec)\n",
    "#     print ('I:',I)\n",
    "    \n",
    "    return I\n",
    "\n",
    "\n",
    "\n",
    "############################################\n",
    "############################################\n",
    "\n",
    "\n",
    "def integral_of_the_flux (h_0, alpha, phi, height, width, length):\n",
    "    \"\"\"Here we define the integrand and we integrate to get the flux through the detectors for a given h_0.\n",
    "    \n",
    "    INPUT: \n",
    "        h_0 the km water equivalent of muon screening\n",
    "        aperture angle range 1\n",
    "        aperture angle range 2\n",
    "        height, width, length of the scinitllators\n",
    "        \n",
    "    OUTPUT:\n",
    "        the resulting integral (check the documentation)\n",
    "    \"\"\"\n",
    "    \n",
    "    alim = -alpha/2\n",
    "    blim = alpha/2\n",
    "    \n",
    "    alim_2 = -phi/2\n",
    "    blim_2 = phi/2\n",
    "    \n",
    "    f = lambda y,x: np.sin(x + np.pi/2) * (width - (height*abs(np.tan(y)))) * (length - (height*abs(np.tan(x)))) * flat_earth_depth (y, x, h_0)\n",
    "    \n",
    "    return integrate.dblquad(f, alim, blim, alim_2, blim_2)[0]\n",
    "    \n",
    "    "
   ]
  },
  {
   "cell_type": "code",
   "execution_count": null,
   "id": "89153767",
   "metadata": {},
   "outputs": [],
   "source": []
  },
  {
   "cell_type": "code",
   "execution_count": 153,
   "id": "1318f972",
   "metadata": {},
   "outputs": [],
   "source": [
    "################### Dimensions of the scintillators ##################### \n",
    "\n",
    "height = 1.5 # all units in \"cm\"  of the detector, height is the distance between the scintillators\n",
    "width = 3  \n",
    "length = 25"
   ]
  },
  {
   "cell_type": "code",
   "execution_count": 154,
   "id": "0d7c9820",
   "metadata": {},
   "outputs": [],
   "source": [
    "################### Fudge factor of the scintillators ##################### \n",
    "\n",
    "fudge_distance1 = 0.15\n",
    "fudge_distance2 = fudge_distance1  # we assume them to be the same"
   ]
  },
  {
   "cell_type": "code",
   "execution_count": 155,
   "id": "f6ab91cf",
   "metadata": {},
   "outputs": [
    {
     "name": "stdout",
     "output_type": "stream",
     "text": [
      "The angle of the width aperture is: 112.61986494804043 degrees\n",
      "The angle of the length aperture is: 171.663934046505 degrees\n",
      "1.8 2.7 24.7\n",
      "66.69\n"
     ]
    }
   ],
   "source": [
    "################### Assign new valus of the dimension + get the apertures ##################### \n",
    "\n",
    "height, width, length, phi, alpha = mf.fudger (height, width, length, fudge_distance1, fudge_distance2)\n",
    "print (height, width, length)\n",
    "area = width*length\n",
    "print (area)"
   ]
  },
  {
   "cell_type": "code",
   "execution_count": 210,
   "id": "cf01e8cf",
   "metadata": {},
   "outputs": [
    {
     "name": "stdout",
     "output_type": "stream",
     "text": [
      "0.000245261762988096\n"
     ]
    }
   ],
   "source": [
    "#h_0 = 0.01093 #TMB\n",
    "h_0 = 0.0121 # Vallvidrera\n",
    "I = integral_of_the_flux (h_0, alpha, phi, height, width, length)\n",
    "I = I/area\n",
    "print (I)"
   ]
  },
  {
   "cell_type": "code",
   "execution_count": 143,
   "id": "3cc55113",
   "metadata": {},
   "outputs": [],
   "source": [
    "# Rates at different sites in impacts per cm^2 per sec\n",
    "TMB_rate = 1.4/60/area \n",
    "Vallvidrera_rate = 1.1/60/area\n",
    "site6m_rate = 20/60/area"
   ]
  },
  {
   "cell_type": "code",
   "execution_count": 148,
   "id": "591fc460",
   "metadata": {},
   "outputs": [
    {
     "data": {
      "text/plain": [
       "0.000349877542859999"
      ]
     },
     "execution_count": 148,
     "metadata": {},
     "output_type": "execute_result"
    }
   ],
   "source": [
    "TMB_rate"
   ]
  },
  {
   "cell_type": "code",
   "execution_count": 206,
   "id": "0e9bdd24",
   "metadata": {},
   "outputs": [
    {
     "data": {
      "text/plain": [
       "0.0002749037836757135"
      ]
     },
     "execution_count": 206,
     "metadata": {},
     "output_type": "execute_result"
    }
   ],
   "source": [
    "Vallvidrera_rate"
   ]
  },
  {
   "cell_type": "code",
   "execution_count": 58,
   "id": "04295012",
   "metadata": {},
   "outputs": [],
   "source": [
    "# def gradient (vector, y):\n",
    "#     return (y - integral_of_the_flux (vector, alpha, phi, height, width, length))/y\n",
    "    "
   ]
  },
  {
   "cell_type": "code",
   "execution_count": 61,
   "id": "4587d610",
   "metadata": {},
   "outputs": [],
   "source": [
    "# def gradient_descent(gradient, y, start, learn_rate, n_iter=50, tolerance=1e-06):\n",
    "#     vector = start\n",
    "\n",
    "#     for _ in range(n_iter):\n",
    "#         diff = -learn_rate * (y - integral_of_the_flux (vector, alpha, phi, height, width, length))/y\n",
    "#         if np.all(np.abs(diff) <= tolerance):\n",
    "#             break\n",
    "            \n",
    "#         vector += diff\n",
    "\n",
    "#     return vector"
   ]
  },
  {
   "cell_type": "code",
   "execution_count": 62,
   "id": "44d371de",
   "metadata": {},
   "outputs": [],
   "source": [
    "# x = gradient_descent(integral_of_the_flux, TMB_rate, 1, 0.1)"
   ]
  },
  {
   "cell_type": "code",
   "execution_count": 71,
   "id": "6d32277f",
   "metadata": {},
   "outputs": [],
   "source": [
    "# x"
   ]
  },
  {
   "cell_type": "code",
   "execution_count": 119,
   "id": "88caca5c",
   "metadata": {},
   "outputs": [],
   "source": [
    "If = muon_intensity(1)"
   ]
  },
  {
   "cell_type": "code",
   "execution_count": 120,
   "id": "0e161c43",
   "metadata": {},
   "outputs": [
    {
     "data": {
      "text/plain": [
       "2.5286415476946804e-06"
      ]
     },
     "execution_count": 120,
     "metadata": {},
     "output_type": "execute_result"
    }
   ],
   "source": [
    "If"
   ]
  },
  {
   "cell_type": "code",
   "execution_count": null,
   "id": "8f4c8786",
   "metadata": {},
   "outputs": [],
   "source": []
  }
 ],
 "metadata": {
  "kernelspec": {
   "display_name": "Python 3 (ipykernel)",
   "language": "python",
   "name": "python3"
  },
  "language_info": {
   "codemirror_mode": {
    "name": "ipython",
    "version": 3
   },
   "file_extension": ".py",
   "mimetype": "text/x-python",
   "name": "python",
   "nbconvert_exporter": "python",
   "pygments_lexer": "ipython3",
   "version": "3.10.8"
  }
 },
 "nbformat": 4,
 "nbformat_minor": 5
}
