{
 "cells": [
  {
   "cell_type": "markdown",
   "id": "1292488f",
   "metadata": {},
   "source": [
    "This script calculates the muon flux trough a detector used by the Quantum compuing group in IFAE, Barcelona"
   ]
  },
  {
   "cell_type": "markdown",
   "id": "02c81043",
   "metadata": {},
   "source": [
    "@author: MoonPenguin"
   ]
  },
  {
   "cell_type": "code",
   "execution_count": 80,
   "id": "08a0a459",
   "metadata": {},
   "outputs": [],
   "source": [
    "###Libraries"
   ]
  },
  {
   "cell_type": "code",
   "execution_count": 81,
   "id": "4815ff53",
   "metadata": {},
   "outputs": [],
   "source": [
    "\n",
    "import numpy as np\n",
    "import matplotlib.pyplot as plt\n",
    "import pandas as pd\n",
    "import scipy.integrate as integrate\n",
    "import functions as mf\n",
    "plt.style.use('coolplot.mplstyle')\n"
   ]
  },
  {
   "cell_type": "code",
   "execution_count": 164,
   "id": "0cc937ae",
   "metadata": {},
   "outputs": [],
   "source": [
    "### Import files\n",
    "df = pd.read_csv('muon_counter_data.csv')  #,header=1,nrows=4)"
   ]
  },
  {
   "cell_type": "code",
   "execution_count": 168,
   "id": "4c0bf063",
   "metadata": {},
   "outputs": [],
   "source": [
    "### Set arrays\n",
    "datapoints = 20 #how many points to generate for the model (# of the x axis values) \n",
    "beta = np.linspace(0,89,datapoints) # defining the points between 0 and 89 degrees (we don't use 90deg because of numerical overflow problems) "
   ]
  },
  {
   "cell_type": "code",
   "execution_count": 169,
   "id": "27158cdd",
   "metadata": {},
   "outputs": [],
   "source": [
    "################### Flux intensity ##################### \n",
    "\n",
    "F0 = 0.42 #0.498 # the constant of the flux (this is a parameter to be sweeped)"
   ]
  },
  {
   "cell_type": "markdown",
   "id": "c1378a92",
   "metadata": {},
   "source": [
    "# Calculations for the detector"
   ]
  },
  {
   "cell_type": "code",
   "execution_count": 170,
   "id": "ca8dc382",
   "metadata": {},
   "outputs": [],
   "source": [
    "################### Dimensions of the scintillators ##################### \n",
    "\n",
    "height = 1.5 #+ 1.4 # all units in \"cm\"  of the detector, height is the distance between the scintillators\n",
    "width = 3  \n",
    "length = 25"
   ]
  },
  {
   "cell_type": "code",
   "execution_count": 171,
   "id": "c01a50d2",
   "metadata": {},
   "outputs": [],
   "source": [
    "################### Fudge factor of the scintillators ##################### \n",
    "\n",
    "fudge_distance1 = 0.15\n",
    "fudge_distance2 = fudge_distance1  # we assume them to be the same"
   ]
  },
  {
   "cell_type": "code",
   "execution_count": 172,
   "id": "a70defb8",
   "metadata": {},
   "outputs": [
    {
     "name": "stdout",
     "output_type": "stream",
     "text": [
      "The angle of the width aperture is: 112.61986494804043 degrees\n",
      "The angle of the length aperture is: 171.663934046505 degrees\n",
      "1.8 2.7 24.7\n"
     ]
    }
   ],
   "source": [
    "################### Assign new valus of the dimension + get the apertures ##################### \n",
    "\n",
    "height, width, length, phi, alpha = mf.fudger (height, width, length, fudge_distance1, fudge_distance2)\n",
    "print (height, width, length)"
   ]
  },
  {
   "cell_type": "code",
   "execution_count": 173,
   "id": "3c205e77",
   "metadata": {},
   "outputs": [],
   "source": [
    "################### Put in corrections for the chassis tilt #####################\n",
    "\n",
    "df['average_cpm_coincidental'] = mf.chassis_tilt (16.8/15.58 , df['average_cpm_coincidental']) "
   ]
  },
  {
   "cell_type": "markdown",
   "id": "ea744ec3",
   "metadata": {},
   "source": [
    "# Calculations for the chip"
   ]
  },
  {
   "cell_type": "code",
   "execution_count": 174,
   "id": "d43f63bd",
   "metadata": {},
   "outputs": [
    {
     "name": "stdout",
     "output_type": "stream",
     "text": [
      "The angle of the width aperture for a chip is: 179.97708168850033 degrees\n",
      "The angle of the length aperture for a chip is: 179.97708168850033 degrees\n"
     ]
    }
   ],
   "source": [
    "################### Dimensiosn of a chip ##################### \n",
    "\n",
    "height2 = 0.0001  # all units in \"cm\"  of the detector, height is the distance between the scintillators\n",
    "width2 = 0.5 ## cm\n",
    "length2 = 0.5 ## cm\n",
    "\n",
    "phi2 = 2*np.arctan(width2/height2) # gives the aperture angles of the detector in radians\n",
    "print ('The angle of the width aperture for a chip is:',phi2*180/np.pi,\"degrees\")\n",
    "alpha2 = 2*np.arctan(length2/height2)                    \n",
    "print ('The angle of the length aperture for a chip is:',alpha2*180/np.pi,\"degrees\")\n"
   ]
  },
  {
   "cell_type": "markdown",
   "id": "76005e87",
   "metadata": {},
   "source": [
    "# Calculate the results"
   ]
  },
  {
   "cell_type": "code",
   "execution_count": 175,
   "id": "cb0f8431",
   "metadata": {},
   "outputs": [
    {
     "name": "stdout",
     "output_type": "stream",
     "text": [
      "Progress: 5 %\n",
      "Progress: 10 %\n",
      "Progress: 15 %\n",
      "Progress: 20 %\n",
      "Progress: 25 %\n",
      "Progress: 30 %\n",
      "Progress: 35 %\n",
      "Progress: 40 %\n",
      "Progress: 45 %\n",
      "Progress: 50 %\n",
      "Progress: 55 %\n",
      "Progress: 60 %\n",
      "Progress: 65 %\n",
      "Progress: 70 %\n",
      "Progress: 75 %\n",
      "Progress: 80 %\n",
      "Progress: 85 %\n"
     ]
    },
    {
     "name": "stderr",
     "output_type": "stream",
     "text": [
      "C:\\ProgramData\\Anaconda3\\lib\\site-packages\\scipy\\integrate\\quadpack.py:879: IntegrationWarning: The maximum number of subdivisions (50) has been achieved.\n",
      "  If increasing the limit yields no improvement it is advised to analyze \n",
      "  the integrand in order to determine the difficulties.  If the position of a \n",
      "  local difficulty can be determined (singularity, discontinuity) one will \n",
      "  probably gain from splitting up the interval and calling the integrator \n",
      "  on the subranges.  Perhaps a special-purpose integrator should be used.\n",
      "  quad_r = quad(f, low, high, args=args, full_output=self.full_output,\n"
     ]
    },
    {
     "name": "stdout",
     "output_type": "stream",
     "text": [
      "Progress: 90 %\n",
      "Progress: 95 %\n",
      "Progress: 100 %\n"
     ]
    }
   ],
   "source": [
    "integral_table1 = np.linspace(0,1,datapoints)\n",
    "integral_table2 = np.linspace(0,1,datapoints)\n",
    "\n",
    "beta_in_rad=(np.pi/180)*beta # convert the beta degrees to radians\n",
    "\n",
    "for i in range(len(beta)):\n",
    "    integral_table1[i] = mf.integral_of_the_flux (beta_in_rad[i], alpha, phi, height, width, length, F0, clear_sky = False)\n",
    "    integral_table2[i] = mf.integral_of_the_flux (beta_in_rad[i], alpha2, phi2, height2, width2, length2, F0, clear_sky = True)\n",
    "    print(\"Progress:\", int(100*(i+1)/len(beta)),\"%\")"
   ]
  },
  {
   "cell_type": "markdown",
   "id": "9bf5f36e",
   "metadata": {},
   "source": [
    "# Plotting the results"
   ]
  },
  {
   "cell_type": "code",
   "execution_count": 176,
   "id": "dfbb936b",
   "metadata": {},
   "outputs": [
    {
     "data": {
      "image/png": "[encoded data removed]",
      "text/plain": [
       "<Figure size 500x500 with 1 Axes>"
      ]
     },
     "metadata": {
      "needs_background": "light"
     },
     "output_type": "display_data"
    },
    {
     "data": {
      "image/png": "[encoded data removed]",
      "text/plain": [
       "<Figure size 500x500 with 1 Axes>"
      ]
     },
     "metadata": {
      "needs_background": "light"
     },
     "output_type": "display_data"
    }
   ],
   "source": [
    "fontsize_axes = 20\n",
    "dpi = 100\n",
    "fig1, (ax1) = plt.subplots(1, 1, figsize = (5, 5), dpi = dpi)\n",
    "ax1.plot(beta, integral_table1, linewidth=3, label = \"fit to detector data\", color = 'g', zorder=1)\n",
    "\n",
    "# ax1.errorbar(df['angle'], df['average_cpm_coincidental'], yerr=df['average_cpm_coincidental_error'], xerr=1, \n",
    "#              fmt=\".\", linewidth=1, color = 'r', label='Experimental data')\n",
    "\n",
    "# ax1.errorbar(df['angle'], df['average_cpm_coincidental'], yerr=df['average_cpm_coincidental_error'], xerr=1, \n",
    "#              uplims = True, lolims = True, fmt=\".\", linewidth=1, color = 'r', label='Experimental data')\n",
    "ax1.scatter(df['angle'], df['average_cpm_coincidental'], c='r', linewidths=4, label='Experimental data', zorder=2)\n",
    "# ax1.plot(beta,integral_table2,linewidth=3,label = \"chip \" )\n",
    "\n",
    "\n",
    "ax1.set_xlabel('Zenith angle ($^{\\circ}$)', fontsize=fontsize_axes)\n",
    "ax1.set_ylabel('Detector counts $(1/min)$', fontsize=fontsize_axes)\n",
    "# ax1.set_title('$Muon$ $impacts$ $per$ $minute$ $for$ $1x1 cm$ $chip$', fontdict=None, loc='center', pad=None)\n",
    "\n",
    "# ax1.set_ylim([10,50])\n",
    "ax1.set_ylim([0,50])\n",
    "ax1.set_xlim([-5,95])\n",
    "ax1.legend(prop={'size': 12})\n",
    "\n",
    "ax1.tick_params(axis='both', which='major', labelsize=15)\n",
    "ax1.tick_params(axis='both', which='minor', labelsize=10)\n",
    "\n",
    "######\n",
    "\n",
    "fig2, (ax2) = plt.subplots(1, 1, figsize = (5, 5), dpi = dpi)\n",
    "ax2.plot(beta, integral_table2, linewidth=3, label = \"flux through a 5x5mm chip\" )\n",
    "\n",
    "\n",
    "ax2.set_xlabel('Zenith angle ($^{\\circ}$)', fontsize=fontsize_axes)\n",
    "# ax1.set_ylabel('$Detector$ $counts$ $(1/min)$', fontsize=12)\n",
    "ax2.set_ylabel('Counts $(1/min)$', fontsize=fontsize_axes)\n",
    "# ax1.set_title('$Muon$ $impacts$ $per$ $minute$ $for$ $1x1 cm$ $chip$', fontdict=None, loc='center', pad=None)\n",
    "\n",
    "# ax2.set_ylim([0.3,0.65])\n",
    "ax2.set_ylim([0,0.65])\n",
    "ax2.set_xlim([-5,95])\n",
    "ax2.legend(prop={'size': 12})\n",
    "\n",
    "ax2.tick_params(axis='both', which='major', labelsize=15)\n",
    "ax2.tick_params(axis='both', which='minor', labelsize=10)\n",
    "\n",
    "plt.plot()\n",
    "\n",
    "fig1.savefig('final_fit_muons.png')\n",
    "fig2.savefig('Plot_chip_flux.png')\n"
   ]
  },
  {
   "cell_type": "code",
   "execution_count": 177,
   "id": "5102a0a9",
   "metadata": {},
   "outputs": [
    {
     "data": {
      "text/plain": [
       "0    43.350000\n",
       "1    40.314050\n",
       "2    32.826836\n",
       "3    23.344978\n",
       "4    16.810783\n",
       "Name: average_cpm_coincidental, dtype: float64"
      ]
     },
     "execution_count": 177,
     "metadata": {},
     "output_type": "execute_result"
    }
   ],
   "source": [
    "df['average_cpm_coincidental']"
   ]
  },
  {
   "cell_type": "code",
   "execution_count": null,
   "id": "7b96aeb3",
   "metadata": {},
   "outputs": [],
   "source": []
  }
 ],
 "metadata": {
  "kernelspec": {
   "display_name": "Python 3",
   "language": "python",
   "name": "python3"
  },
  "language_info": {
   "codemirror_mode": {
    "name": "ipython",
    "version": 3
   },
   "file_extension": ".py",
   "mimetype": "text/x-python",
   "name": "python",
   "nbconvert_exporter": "python",
   "pygments_lexer": "ipython3",
   "version": "3.8.8"
  }
 },
 "nbformat": 4,
 "nbformat_minor": 5
}
